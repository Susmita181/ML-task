{
 "cells": [
  {
   "cell_type": "code",
   "execution_count": 5,
   "id": "273602bb-03d0-4b9e-9f5e-63d21fa6eaa0",
   "metadata": {},
   "outputs": [
    {
     "data": {
      "text/plain": [
       "2"
      ]
     },
     "execution_count": 5,
     "metadata": {},
     "output_type": "execute_result"
    }
   ],
   "source": [
    "# Data_Types\n",
    "#Numbers\n",
    "# Addition\n",
    "1 + 1  "
   ]
  },
  {
   "cell_type": "code",
   "execution_count": 4,
   "id": "97e11bba-83cf-4821-ab74-f9330ce53b3f",
   "metadata": {},
   "outputs": [
    {
     "data": {
      "text/plain": [
       "3"
      ]
     },
     "execution_count": 4,
     "metadata": {},
     "output_type": "execute_result"
    }
   ],
   "source": [
    "# Multiplication\n",
    "1 * 3  "
   ]
  },
  {
   "cell_type": "code",
   "execution_count": 6,
   "id": "09e65d43-878d-4493-9b10-56d6c36340e6",
   "metadata": {},
   "outputs": [
    {
     "data": {
      "text/plain": [
       "0.5"
      ]
     },
     "execution_count": 6,
     "metadata": {},
     "output_type": "execute_result"
    }
   ],
   "source": [
    "# Division\n",
    "1 / 2  "
   ]
  },
  {
   "cell_type": "code",
   "execution_count": 7,
   "id": "9482f48e-2fc3-4fd2-8964-c23cf5cdf01b",
   "metadata": {},
   "outputs": [
    {
     "data": {
      "text/plain": [
       "16"
      ]
     },
     "execution_count": 7,
     "metadata": {},
     "output_type": "execute_result"
    }
   ],
   "source": [
    "# Exponentiation\n",
    "2 ** 4  \n"
   ]
  },
  {
   "cell_type": "code",
   "execution_count": 8,
   "id": "307d8b34-1e68-4610-93c8-d8ca059f23f2",
   "metadata": {},
   "outputs": [
    {
     "data": {
      "text/plain": [
       "1"
      ]
     },
     "execution_count": 8,
     "metadata": {},
     "output_type": "execute_result"
    }
   ],
   "source": [
    "# Modulus (remainder)\n",
    "4 % 2  \n",
    "5 % 2 "
   ]
  },
  {
   "cell_type": "code",
   "execution_count": 9,
   "id": "2936b852-e471-4170-89a5-dc3a6545693e",
   "metadata": {},
   "outputs": [
    {
     "data": {
      "text/plain": [
       "50"
      ]
     },
     "execution_count": 9,
     "metadata": {},
     "output_type": "execute_result"
    }
   ],
   "source": [
    "# Parentheses to control order of operations\n",
    "(2 + 3) * (5 + 5)  "
   ]
  },
  {
   "cell_type": "code",
   "execution_count": null,
   "id": "af15d925-34f5-4bd5-9f2b-6b8a2d390e38",
   "metadata": {},
   "outputs": [],
   "source": [
    "#Variable Assignment\n",
    "# Can not start with number or special characters\n",
    "name_of_var = 2\n",
    "\n",
    "x = 2\n",
    "y = 3\n",
    "\n",
    "z = x + y\n",
    "\n",
    "z \n"
   ]
  }
 ],
 "metadata": {
  "kernelspec": {
   "display_name": "Python 3 (ipykernel)",
   "language": "python",
   "name": "python3"
  },
  "language_info": {
   "codemirror_mode": {
    "name": "ipython",
    "version": 3
   },
   "file_extension": ".py",
   "mimetype": "text/x-python",
   "name": "python",
   "nbconvert_exporter": "python",
   "pygments_lexer": "ipython3",
   "version": "3.12.7"
  }
 },
 "nbformat": 4,
 "nbformat_minor": 5
}
