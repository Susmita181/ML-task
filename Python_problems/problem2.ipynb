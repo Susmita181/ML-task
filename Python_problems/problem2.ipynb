{
 "cells": [
  {
   "cell_type": "code",
   "execution_count": 1,
   "id": "647040af-ebb7-4da6-8c04-f5042024bc5d",
   "metadata": {},
   "outputs": [
    {
     "name": "stdout",
     "output_type": "stream",
     "text": [
      "2401\n"
     ]
    }
   ],
   "source": [
    "# 7 raised to the power of 4\n",
    "result = 7 ** 4\n",
    "print(result)"
   ]
  },
  {
   "cell_type": "code",
   "execution_count": 2,
   "id": "8a5cadba-74e4-48f0-ac79-93639beb8135",
   "metadata": {},
   "outputs": [
    {
     "name": "stdout",
     "output_type": "stream",
     "text": [
      "['Hi', 'there', 'Sam!']\n"
     ]
    }
   ],
   "source": [
    "# Split the string into a list of words\n",
    "s = \"Hi there Sam!\"\n",
    "split_list = s.split()\n",
    "print(split_list)\n"
   ]
  },
  {
   "cell_type": "code",
   "execution_count": 3,
   "id": "5a2f2326-71cc-4b7e-97a0-fc450c5baf04",
   "metadata": {},
   "outputs": [
    {
     "name": "stdout",
     "output_type": "stream",
     "text": [
      "['Hi', 'there', 'dad']\n"
     ]
    }
   ],
   "source": [
    "# Correcting the list syntax\n",
    "my_list = ['Hi', 'there', 'dad']\n",
    "print(my_list)"
   ]
  },
  {
   "cell_type": "code",
   "execution_count": 4,
   "id": "8ef0c0bf-4c49-4ae3-b2f6-003f439b6097",
   "metadata": {},
   "outputs": [
    {
     "name": "stdout",
     "output_type": "stream",
     "text": [
      "The diameter of Earth is 12742 kilometers.\n"
     ]
    }
   ],
   "source": [
    "planet = \"Earth\"\n",
    "diameter = 12742\n",
    "\n",
    "# Solution using .format()\n",
    "print(\"The diameter of {} is {} kilometers.\".format(planet, diameter))"
   ]
  },
  {
   "cell_type": "code",
   "execution_count": 5,
   "id": "44b4c986-c327-4d78-8c0b-85f64ee51375",
   "metadata": {},
   "outputs": [
    {
     "name": "stdout",
     "output_type": "stream",
     "text": [
      "The diameter of Earth is 12742 kilometers.\n"
     ]
    }
   ],
   "source": [
    "# Alternative f-string method (Python 3.6+)\n",
    "print(f\"The diameter of {planet} is {diameter} kilometers.\")"
   ]
  },
  {
   "cell_type": "code",
   "execution_count": 7,
   "id": "e29b6701-1efb-4b82-9a58-0701db8511c7",
   "metadata": {},
   "outputs": [
    {
     "name": "stdout",
     "output_type": "stream",
     "text": [
      "hello\n"
     ]
    }
   ],
   "source": [
    "\n",
    "lst = [1, 2, [3, 4], [5, [100, 200, ['hello']], 23, 11], 1, 7]\n",
    "\n",
    "# Solution using indexing to extract \"hello\"\n",
    "hello_word = lst[3][1][2][0]\n",
    "print(hello_word)  # Output: 'hello'"
   ]
  },
  {
   "cell_type": "code",
   "execution_count": 8,
   "id": "d5dad738-242f-4f2a-b427-0161de75e383",
   "metadata": {},
   "outputs": [
    {
     "name": "stdout",
     "output_type": "stream",
     "text": [
      "hello\n"
     ]
    }
   ],
   "source": [
    "# Corrected nested dictionary (fixed syntax errors from the original)\n",
    "d = {\n",
    "    'kl': [\n",
    "        1, \n",
    "        2, \n",
    "        3, \n",
    "        {\n",
    "            'tricky': [\n",
    "                'oh', \n",
    "                'man', \n",
    "                'inception', \n",
    "                {\n",
    "                    'target': [\n",
    "                        1, \n",
    "                        2, \n",
    "                        3, \n",
    "                        'hello'\n",
    "                    ]\n",
    "                }\n",
    "            ]\n",
    "        }\n",
    "    ]\n",
    "}\n",
    "\n",
    "hello_word = d['kl'][3]['tricky'][3]['target'][3]\n",
    "print(hello_word)  "
   ]
  },
  {
   "cell_type": "code",
   "execution_count": 10,
   "id": "29e2c93d-7d15-4e05-bb9e-d867ade4978a",
   "metadata": {},
   "outputs": [
    {
     "name": "stdout",
     "output_type": "stream",
     "text": [
      "Original list: [1, 2, 3]\n",
      "Modified list: [99, 2, 3, 4]\n",
      "\n",
      "Original tuple: (1, 2, 3)\n",
      "Error when trying to modify tuple: 'tuple' object does not support item assignment\n",
      "Error when trying to append to tuple: 'tuple' object has no attribute 'append'\n",
      "New tuple: (1, 2, 3, 4)\n"
     ]
    }
   ],
   "source": [
    "# Difference between tuples and lists in Python\n",
    "\n",
    "# Lists are mutable (can be changed after creation)\n",
    "my_list = [1, 2, 3]\n",
    "print(\"Original list:\", my_list)\n",
    "\n",
    "# We can modify a list\n",
    "my_list[0] = 99\n",
    "my_list.append(4)\n",
    "print(\"Modified list:\", my_list)  # Output: [99, 2, 3, 4]\n",
    "\n",
    "# Tuples are immutable (cannot be changed after creation)\n",
    "my_tuple = (1, 2, 3)\n",
    "print(\"\\nOriginal tuple:\", my_tuple)\n",
    "\n",
    "# Attempting to modify a tuple will raise an error\n",
    "try:\n",
    "    my_tuple[0] = 99  \n",
    "except TypeError as e:\n",
    "    print(\"Error when trying to modify tuple:\", e)\n",
    "    \n",
    "try:\n",
    "    my_tuple.append(4)  \n",
    "except AttributeError as e:\n",
    "    print(\"Error when trying to append to tuple:\", e)\n",
    "\n",
    "# You can't add or remove elements from a tuple\n",
    "# The only way to \"modify\" a tuple is to create a new one\n",
    "new_tuple = my_tuple + (4,)  \n",
    "print(\"New tuple:\", new_tuple)  "
   ]
  },
  {
   "cell_type": "code",
   "execution_count": 13,
   "id": "441df39c-bf06-425f-bd05-e4bff3c676c8",
   "metadata": {},
   "outputs": [
    {
     "name": "stdout",
     "output_type": "stream",
     "text": [
      "domain.com\n",
      "gmail.com\n",
      "company.co.uk\n"
     ]
    }
   ],
   "source": [
    "def domainGet(email):\n",
    "    return email.split('@')[-1]  \n",
    "\n",
    "# Test the function\n",
    "print(domainGet('user@domain.com')) \n",
    "print(domainGet('john.doe@gmail.com'))  \n",
    "print(domainGet('admin@company.co.uk'))  "
   ]
  },
  {
   "cell_type": "code",
   "execution_count": 14,
   "id": "a0e058d4-b826-4099-aa8f-31a088d47d9f",
   "metadata": {},
   "outputs": [
    {
     "name": "stdout",
     "output_type": "stream",
     "text": [
      "True\n",
      "True\n",
      "False\n",
      "True\n"
     ]
    }
   ],
   "source": [
    "def findDog(text):\n",
    "    return 'dog' in text.lower()\n",
    "\n",
    "# Test cases\n",
    "print(findDog('Is there a dog here?'))  \n",
    "print(findDog('Look at that DOG!'))     \n",
    "print(findDog('Cats are cute'))         \n",
    "print(findDog('Doghouse'))              "
   ]
  },
  {
   "cell_type": "code",
   "execution_count": 20,
   "id": "3c13b246-a517-48c6-8075-86d75aaeae10",
   "metadata": {},
   "outputs": [
    {
     "name": "stdout",
     "output_type": "stream",
     "text": [
      "2\n"
     ]
    }
   ],
   "source": [
    "# Function definition\n",
    "def countDog(text):\n",
    "    #Count how many times 'dog' appears in the input string (case-insensitive)\n",
    "    return text.lower().count('dog')\n",
    "\n",
    "# Test cases (these will produce visible output)\n",
    "print( countDog('This dog runs faster than the other dog dude!'))  \n",
    "                        "
   ]
  },
  {
   "cell_type": "code",
   "execution_count": 21,
   "id": "2bd6dbdc-9cbc-4173-946c-96446627165b",
   "metadata": {},
   "outputs": [
    {
     "data": {
      "text/plain": [
       "['soup', 'salad']"
      ]
     },
     "execution_count": 21,
     "metadata": {},
     "output_type": "execute_result"
    }
   ],
   "source": [
    "seq = ['soup', 'dog', 'salad', 'cat', 'great']\n",
    "\n",
    "# Solution using filter() + lambda\n",
    "filtered = list(filter(lambda word: word.lower().startswith('s'), seq))\n",
    "\n",
    "# Display result (Jupyter will automatically show the last line)\n",
    "filtered"
   ]
  },
  {
   "cell_type": "code",
   "execution_count": 22,
   "id": "56890541-715b-499d-b4f1-6fe55c5d3324",
   "metadata": {},
   "outputs": [
    {
     "data": {
      "text/plain": [
       "['soup', 'salad']"
      ]
     },
     "execution_count": 22,
     "metadata": {},
     "output_type": "execute_result"
    }
   ],
   "source": [
    "[s for s in seq if s.lower().startswith('s')]"
   ]
  },
  {
   "cell_type": "code",
   "execution_count": 23,
   "id": "828fd365-971d-4146-8762-38e9d369bf99",
   "metadata": {},
   "outputs": [
    {
     "data": {
      "text/plain": [
       "['soup', 'salad']"
      ]
     },
     "execution_count": 23,
     "metadata": {},
     "output_type": "execute_result"
    }
   ],
   "source": [
    "list(filter(lambda word: word.startswith('s'), seq))"
   ]
  },
  {
   "cell_type": "code",
   "execution_count": null,
   "id": "4c602408-8099-4c6c-8fcd-e686b2774502",
   "metadata": {},
   "outputs": [],
   "source": []
  }
 ],
 "metadata": {
  "kernelspec": {
   "display_name": "Python 3 (ipykernel)",
   "language": "python",
   "name": "python3"
  },
  "language_info": {
   "codemirror_mode": {
    "name": "ipython",
    "version": 3
   },
   "file_extension": ".py",
   "mimetype": "text/x-python",
   "name": "python",
   "nbconvert_exporter": "python",
   "pygments_lexer": "ipython3",
   "version": "3.12.7"
  }
 },
 "nbformat": 4,
 "nbformat_minor": 5
}
