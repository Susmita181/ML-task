{
 "cells": [
  {
   "cell_type": "code",
   "execution_count": 1,
   "id": "5b002537-8b78-45d0-8deb-2eb315f0d941",
   "metadata": {},
   "outputs": [
    {
     "name": "stdout",
     "output_type": "stream",
     "text": [
      "dataset loaded succesfully\n"
     ]
    }
   ],
   "source": [
    "import pandas as pd\n",
    "data=pd.read_csv(r'F:\\ML_Task\\datasets\\bank+marketing\\bank\\bank.csv')\n",
    "print('dataset loaded succesfully')"
   ]
  },
  {
   "cell_type": "code",
   "execution_count": null,
   "id": "a03bfe8d-1196-4737-bdc0-8a8872bdec77",
   "metadata": {},
   "outputs": [],
   "source": []
  }
 ],
 "metadata": {
  "kernelspec": {
   "display_name": "Python 3 (ipykernel)",
   "language": "python",
   "name": "python3"
  },
  "language_info": {
   "codemirror_mode": {
    "name": "ipython",
    "version": 3
   },
   "file_extension": ".py",
   "mimetype": "text/x-python",
   "name": "python",
   "nbconvert_exporter": "python",
   "pygments_lexer": "ipython3",
   "version": "3.12.7"
  }
 },
 "nbformat": 4,
 "nbformat_minor": 5
}
